{
 "cells": [
  {
   "cell_type": "code",
   "execution_count": 19,
   "outputs": [],
   "source": [
    "import pandas as pd\n",
    "from scipy.stats import ttest_ind"
   ],
   "metadata": {
    "collapsed": false,
    "pycharm": {
     "name": "#%%\n"
    }
   }
  },
  {
   "cell_type": "code",
   "execution_count": 20,
   "outputs": [
    {
     "name": "stdout",
     "output_type": "stream",
     "text": [
      "      id_order                 animal                species  check\n",
      "0      3645743                  Кошка                Уличная  35124\n",
      "1      3645744                  Кошка  Домашняя обыкновенная  30789\n",
      "2      3645745                 Собака                Уличная  30386\n",
      "3      3645745                 Собака  Домашняя обыкновенная  33967\n",
      "4      3645746                 Собака  Домашняя обыкновенная  57745\n",
      "...        ...                    ...                    ...    ...\n",
      "4841   3647629                 Собака  Домашняя обыкновенная   3195\n",
      "4842   3647629  Экзотическое животное  Экзотическое животное   6591\n",
      "4843   3647630                  Кошка  Домашняя обыкновенная   6949\n",
      "4844   3647631                  Кошка    Домашняя породистая   7837\n",
      "4845   3647632                 Собака  Домашняя обыкновенная   5099\n",
      "\n",
      "[4846 rows x 4 columns]\n"
     ]
    }
   ],
   "source": [
    "sky_animal_data = pd.read_excel('AnimalData.xlsx')\n",
    "print(sky_animal_data)"
   ],
   "metadata": {
    "collapsed": false,
    "pycharm": {
     "name": "#%%\n"
    }
   }
  },
  {
   "cell_type": "code",
   "execution_count": 21,
   "outputs": [
    {
     "name": "stdout",
     "output_type": "stream",
     "text": [
      "                  animal                species  client_count     avg_check\n",
      "0                  Кошка  Домашняя обыкновенная          1037  26252.648987\n",
      "1                  Кошка    Домашняя породистая           375  27404.896000\n",
      "2                  Кошка                Уличная           598  24168.826087\n",
      "3                 Собака  Домашняя обыкновенная           920  26733.493478\n",
      "4                 Собака    Домашняя породистая           249  20443.963855\n",
      "5                 Собака                Уличная           774  25679.635659\n",
      "6  Экзотическое животное  Экзотическое животное           893  28748.667413\n"
     ]
    }
   ],
   "source": [
    "df = sky_animal_data.groupby(['animal', 'species']) \\\n",
    "    .agg({'id_order': 'count', 'check': 'mean'}) \\\n",
    "    .rename(columns={'id_order': 'client_count', 'check': 'avg_check'}).reset_index()\n",
    "print(df)"
   ],
   "metadata": {
    "collapsed": false,
    "pycharm": {
     "name": "#%%\n"
    }
   }
  },
  {
   "cell_type": "code",
   "execution_count": 22,
   "outputs": [],
   "source": [
    "df_cat = sky_animal_data[sky_animal_data['animal'] == 'Кошка']\n",
    "df_dog = sky_animal_data[sky_animal_data['animal'] == 'Собака']\n",
    "df_exotic = sky_animal_data[sky_animal_data['animal'] == 'Экзотическое животное']"
   ],
   "metadata": {
    "collapsed": false,
    "pycharm": {
     "name": "#%%\n"
    }
   }
  },
  {
   "cell_type": "code",
   "execution_count": 23,
   "outputs": [
    {
     "name": "stdout",
     "output_type": "stream",
     "text": [
      "Средний чек выше по кошкам\n",
      "0.33249372919079573 0.7395341130329705\n"
     ]
    }
   ],
   "source": [
    "# Какой средний чек выше - по собакам или по кошкам?\n",
    "\n",
    "t_stat_cat_dog, p_val_cat_dog = ttest_ind(df_cat['check'], df_dog['check'])\n",
    "\n",
    "print(\"Средний чек выше по собакам\" if p_val_cat_dog < 0.05 else \"Средний чек выше по кошкам\")\n",
    "print(t_stat_cat_dog, p_val_cat_dog)"
   ],
   "metadata": {
    "collapsed": false,
    "pycharm": {
     "name": "#%%\n"
    }
   }
  },
  {
   "cell_type": "code",
   "execution_count": 24,
   "outputs": [
    {
     "name": "stdout",
     "output_type": "stream",
     "text": [
      "Средний чек выше по экзотическим животным\n"
     ]
    }
   ],
   "source": [
    "# Какой средний чек выше - по экзотическим животным или по собакам?\n",
    "\n",
    "t_stat_exotic_dog, p_val_exotic_dog = ttest_ind(df_exotic['check'], df_dog['check'])\n",
    "\n",
    "print(\"Средний чек выше по экзотическим животным\" if p_val_exotic_dog < 0.05 else \"Средний чек выше по собакам\")"
   ],
   "metadata": {
    "collapsed": false,
    "pycharm": {
     "name": "#%%\n"
    }
   }
  },
  {
   "cell_type": "code",
   "execution_count": 25,
   "outputs": [
    {
     "name": "stdout",
     "output_type": "stream",
     "text": [
      "Средний чек выше по кошкам\n"
     ]
    }
   ],
   "source": [
    "# Какой средний чек выше - по экзотическим животным или по кошкам?\n",
    "t_stat_exotic_cat, p_val_exotic_cat = ttest_ind(df_exotic['check'], df_cat['check'])\n",
    "\n",
    "print(\"Средний чек выше по экзотическим животным\" if p_val_exotic_cat < 0.05 else \"Средний чек выше по кошкам\")"
   ],
   "metadata": {
    "collapsed": false,
    "pycharm": {
     "name": "#%%\n"
    }
   }
  },
  {
   "cell_type": "code",
   "execution_count": 26,
   "outputs": [
    {
     "name": "stdout",
     "output_type": "stream",
     "text": [
      "Сегмент Домашняя породистая: средний чек выше по кошкам, чем по собакам\n"
     ]
    }
   ],
   "source": [
    "# Существуют ли сегменты (разбиение по породе), в рамках которых средний чек по кошкам больше, чем по собакам?\n",
    "\n",
    "for species in df['species'].unique():\n",
    "    df_cat_species = sky_animal_data[(sky_animal_data['animal'] == 'Кошка') & (sky_animal_data['species'] == species)]\n",
    "    df_dog_species = sky_animal_data[(sky_animal_data['animal'] == 'Собака') & (sky_animal_data['species'] == species)]\n",
    "\n",
    "    t_stat, p_val = ttest_ind(df_cat_species['check'], df_dog_species['check'])\n",
    "\n",
    "    if p_val < 0.05 and df_cat_species['check'].mean() > df_dog_species['check'].mean():\n",
    "        print(f\"Сегмент {species}: средний чек выше по кошкам, чем по собакам\")\n"
   ],
   "metadata": {
    "collapsed": false,
    "pycharm": {
     "name": "#%%\n"
    }
   }
  },
  {
   "cell_type": "code",
   "execution_count": 27,
   "outputs": [
    {
     "name": "stdout",
     "output_type": "stream",
     "text": [
      "Средний чек выше по домашним породистым кошкам\n",
      "0.5837843619715073 0.559469393144282\n"
     ]
    }
   ],
   "source": [
    "# Какой средний чек выше - по экзотическим животным или по домашним породистым кошкам?\n",
    "\n",
    "df_cat_t = sky_animal_data[(sky_animal_data['animal'] == 'Кошка') & (sky_animal_data['species'] == 'Домашняя породистая')]\n",
    "\n",
    "t_stat_exotic_cat, p_val_exotic_cat = ttest_ind(df_exotic['check'], df_cat_t['check'])\n",
    "\n",
    "print(\"Средний чек выше по экзотическим животным\" if p_val_exotic_cat < 0.05 else \"Средний чек выше по домашним породистым кошкам\")\n",
    "print(t_stat_exotic_cat, p_val_exotic_cat)"
   ],
   "metadata": {
    "collapsed": false,
    "pycharm": {
     "name": "#%%\n"
    }
   }
  },
  {
   "cell_type": "code",
   "execution_count": 27,
   "outputs": [],
   "source": [],
   "metadata": {
    "collapsed": false,
    "pycharm": {
     "name": "#%%\n"
    }
   }
  }
 ],
 "metadata": {
  "kernelspec": {
   "display_name": "Python 3",
   "language": "python",
   "name": "python3"
  },
  "language_info": {
   "codemirror_mode": {
    "name": "ipython",
    "version": 3
   },
   "file_extension": ".py",
   "mimetype": "text/x-python",
   "name": "python",
   "nbconvert_exporter": "python",
   "pygments_lexer": "ipython3",
   "version": "3.8.8"
  }
 },
 "nbformat": 4,
 "nbformat_minor": 5
}