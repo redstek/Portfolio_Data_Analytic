{
 "cells": [
  {
   "cell_type": "code",
   "execution_count": 1,
   "outputs": [],
   "source": [
    "import pandas as pd\n",
    "import numpy as np\n",
    "from scipy.stats import ttest_ind"
   ],
   "metadata": {
    "collapsed": false,
    "pycharm": {
     "name": "#%%\n"
    }
   }
  },
  {
   "cell_type": "code",
   "execution_count": 2,
   "outputs": [
    {
     "name": "stdout",
     "output_type": "stream",
     "text": [
      "      id_client  id_group    ext               city  nflag_purchase  time_came\n",
      "0      24360208         0  contr             Moscow               1 2021-10-21\n",
      "1      24360925         1   test             Moscow               1 2021-10-16\n",
      "2      24357607         1   test  Saint-Petersbourg               0 2021-01-09\n",
      "3      24362041         0  contr  Saint-Petersbourg               0 2020-01-25\n",
      "4      24360773         1   test        Novosibirsk               0 2021-04-03\n",
      "...         ...       ...    ...                ...             ...        ...\n",
      "6389   24356990         1   test             Moscow               1 2021-10-08\n",
      "6390   24359007         0  contr        Novosibirsk               1 2021-05-24\n",
      "6391   24362669         1   test             Moscow               0 2021-05-20\n",
      "6392   24357547         0  contr        Novosibirsk               0 2021-01-13\n",
      "6393   24357024         0  contr              Kazan               0 2021-08-02\n",
      "\n",
      "[6394 rows x 6 columns]\n"
     ]
    }
   ],
   "source": [
    "sky_jewel_data = pd.read_csv(\"CityData.csv\", sep=';')\n",
    "\n",
    "sky_jewel_data['time_came'] = pd.to_datetime(sky_jewel_data['time_came'], format='%d.%m.%Y')\n",
    "sky_jewel_data['ext'] = np.where(sky_jewel_data['id_group'] == 1, 'test', 'contr')\n",
    "sky_jewel_data = sky_jewel_data.reindex(columns=['id_client', 'id_group', 'ext', 'city', 'nflag_purchase', 'time_came'] )\n",
    "\n",
    "\n",
    "print(sky_jewel_data)"
   ],
   "metadata": {
    "collapsed": false,
    "pycharm": {
     "name": "#%%\n"
    }
   }
  },
  {
   "cell_type": "code",
   "execution_count": 3,
   "outputs": [
    {
     "name": "stdout",
     "output_type": "stream",
     "text": [
      "-2.4013624185110922 0.016362529863058237\n"
     ]
    }
   ],
   "source": [
    "s, p = ttest_ind(sky_jewel_data[sky_jewel_data['id_group'] == 0]['nflag_purchase'], sky_jewel_data[sky_jewel_data['id_group'] == 1]['nflag_purchase'] )\n",
    "print(s, p)\n",
    "\n",
    "#значение p < 0.05, что говорит о том, что есть статистические различия между группами, получающими пуш-уведомления и смс-сообщения"
   ],
   "metadata": {
    "collapsed": false,
    "pycharm": {
     "name": "#%%\n"
    }
   }
  },
  {
   "cell_type": "code",
   "execution_count": 4,
   "outputs": [
    {
     "name": "stdout",
     "output_type": "stream",
     "text": [
      "\n",
      "Moscow\n",
      "t: -0.8450837813559311\n",
      "p: 0.3981571415772427 \n",
      "\n",
      "Saint-Petersbourg\n",
      "t: -1.6604718327634895\n",
      "p: 0.09701308927385824 \n",
      "\n",
      "Novosibirsk\n",
      "t: -0.4978267258755046\n",
      "p: 0.6186980029170557 \n",
      "\n",
      "Kazan\n",
      "t: -0.5357666217562046\n",
      "p: 0.592246594180279 \n",
      "\n",
      "Vladivostok\n",
      "t: -2.1734327152064643\n",
      "p: 0.030257214768841516 \n"
     ]
    }
   ],
   "source": [
    "def test_by_city(sky_jewel_data):\n",
    "    for city in sky_jewel_data['city'].unique():\n",
    "        group_0_data = sky_jewel_data[(sky_jewel_data['city'] == city) & (sky_jewel_data['id_group'] == 0)]\n",
    "        group_0_purchase = group_0_data['nflag_purchase']\n",
    "\n",
    "        group_1_data = sky_jewel_data[(sky_jewel_data['city'] == city) & (sky_jewel_data['id_group'] == 1)]\n",
    "        group_1_purchase = group_1_data['nflag_purchase']\n",
    "\n",
    "        t, p = ttest_ind(group_0_purchase, group_1_purchase)\n",
    "\n",
    "        print(f\"\\n{city}\\nt: {t}\\np: {p} \")\n",
    "\n",
    "    return\n",
    "\n",
    "test_by_city(sky_jewel_data)\n",
    "#в разрезе городов нет разницы между контрольной и тестовой группы во всех городах, кроме Владивостока"
   ],
   "metadata": {
    "collapsed": false,
    "pycharm": {
     "name": "#%%\n"
    }
   }
  },
  {
   "cell_type": "code",
   "execution_count": 5,
   "outputs": [
    {
     "name": "stdout",
     "output_type": "stream",
     "text": [
      "\n",
      "Saint-Petersbourg\n",
      "t: -1.0648100022929947\n",
      "p: 0.28741355911452665 \n",
      "\n",
      "Kazan\n",
      "t: -0.6091471183931282\n",
      "p: 0.5426955440428094 \n",
      "\n",
      "Moscow\n",
      "t: -0.6663258646086272\n",
      "p: 0.5054399863130574 \n",
      "\n",
      "Vladivostok\n",
      "t: -2.9478353895151996\n",
      "p: 0.0035991718341134645 \n",
      "\n",
      "Novosibirsk\n",
      "t: -0.24036968556132807\n",
      "p: 0.8101519376946962 \n"
     ]
    }
   ],
   "source": [
    "data_2020 = sky_jewel_data[sky_jewel_data['time_came'].dt.year == 2020]\n",
    "\n",
    "test_by_city(data_2020)\n",
    "\n",
    "#Эффект от смс-рассылок только для владивостока и клиентов, пришедших в 2020, поскольку в 2021 такой динамики уже нет. Возможно, клиенты столкнулись с тем, что им просто\n",
    "# не приходят пуши. По результатам тестов, нет смысла вводить смс-сообщения по всей области присутствия компании"
   ],
   "metadata": {
    "collapsed": false,
    "pycharm": {
     "name": "#%%\n"
    }
   }
  },
  {
   "cell_type": "code",
   "execution_count": 6,
   "outputs": [
    {
     "name": "stdout",
     "output_type": "stream",
     "text": [
      "\n",
      "Moscow\n",
      "t: -0.5603683900894895\n",
      "p: 0.5753106595236979 \n",
      "\n",
      "Saint-Petersbourg\n",
      "t: -1.2904782210001127\n",
      "p: 0.19716903302230424 \n",
      "\n",
      "Novosibirsk\n",
      "t: -0.5222733783307411\n",
      "p: 0.6016373697833897 \n",
      "\n",
      "Kazan\n",
      "t: -0.11025208256715152\n",
      "p: 0.9122617463673748 \n",
      "\n",
      "Vladivostok\n",
      "t: -0.3858679356044035\n",
      "p: 0.6999017522609832 \n"
     ]
    }
   ],
   "source": [
    "data_2021 = sky_jewel_data[sky_jewel_data['time_came'].dt.year == 2021]\n",
    "\n",
    "test_by_city(data_2021)"
   ],
   "metadata": {
    "collapsed": false,
    "pycharm": {
     "name": "#%%\n"
    }
   }
  },
  {
   "cell_type": "code",
   "execution_count": 6,
   "outputs": [],
   "source": [],
   "metadata": {
    "collapsed": false,
    "pycharm": {
     "name": "#%%\n"
    }
   }
  }
 ],
 "metadata": {
  "kernelspec": {
   "display_name": "Python 3",
   "language": "python",
   "name": "python3"
  },
  "language_info": {
   "codemirror_mode": {
    "name": "ipython",
    "version": 3
   },
   "file_extension": ".py",
   "mimetype": "text/x-python",
   "name": "python",
   "nbconvert_exporter": "python",
   "pygments_lexer": "ipython3",
   "version": "3.8.8"
  }
 },
 "nbformat": 4,
 "nbformat_minor": 5
}