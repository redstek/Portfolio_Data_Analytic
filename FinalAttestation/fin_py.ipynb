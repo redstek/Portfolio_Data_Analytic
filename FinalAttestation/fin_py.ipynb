{
 "cells": [
  {
   "cell_type": "markdown",
   "source": [
    "# ——————L.3, T.1—————————"
   ],
   "metadata": {
    "collapsed": false,
    "pycharm": {
     "name": "#%% md\n"
    }
   }
  },
  {
   "cell_type": "code",
   "execution_count": 1,
   "outputs": [],
   "source": [
    "import pandas as pd\n",
    "from scipy.stats import ttest_ind"
   ],
   "metadata": {
    "collapsed": false,
    "pycharm": {
     "name": "#%%\n"
    }
   }
  },
  {
   "cell_type": "code",
   "execution_count": 2,
   "outputs": [],
   "source": [
    "data_df = pd.read_excel('final_attestation_data.xlsx', sheet_name='Dataset')\n",
    "city_dict_df = pd.read_excel('final_attestation_data.xlsx', sheet_name='city_dict')"
   ],
   "metadata": {
    "collapsed": false,
    "pycharm": {
     "name": "#%%\n"
    }
   }
  },
  {
   "cell_type": "markdown",
   "source": [
    "# ———————————————-\n",
    "# table research"
   ],
   "metadata": {
    "collapsed": false,
    "pycharm": {
     "name": "#%% md\n"
    }
   }
  },
  {
   "cell_type": "code",
   "execution_count": 3,
   "outputs": [
    {
     "name": "stdout",
     "output_type": "stream",
     "text": [
      "<class 'pandas.core.frame.DataFrame'>\n",
      "RangeIndex: 21939 entries, 0 to 21938\n",
      "Data columns (total 5 columns):\n",
      " #   Column       Non-Null Count  Dtype         \n",
      "---  ------       --------------  -----         \n",
      " 0   id_view      21939 non-null  int64         \n",
      " 1   time_view    21939 non-null  datetime64[ns]\n",
      " 2   id_group     21939 non-null  int64         \n",
      " 3   id_city      21939 non-null  int64         \n",
      " 4   nflag_order  21939 non-null  int64         \n",
      "dtypes: datetime64[ns](1), int64(4)\n",
      "memory usage: 857.1 KB\n"
     ]
    }
   ],
   "source": [
    "data_df.info()"
   ],
   "metadata": {
    "collapsed": false,
    "pycharm": {
     "name": "#%%\n"
    }
   }
  },
  {
   "cell_type": "code",
   "execution_count": 4,
   "outputs": [
    {
     "name": "stdout",
     "output_type": "stream",
     "text": [
      "<class 'pandas.core.frame.DataFrame'>\n",
      "RangeIndex: 11 entries, 0 to 10\n",
      "Data columns (total 2 columns):\n",
      " #   Column     Non-Null Count  Dtype \n",
      "---  ------     --------------  ----- \n",
      " 0   id_city    11 non-null     int64 \n",
      " 1   name_city  11 non-null     object\n",
      "dtypes: int64(1), object(1)\n",
      "memory usage: 308.0+ bytes\n"
     ]
    }
   ],
   "source": [
    "city_dict_df.info()"
   ],
   "metadata": {
    "collapsed": false,
    "pycharm": {
     "name": "#%%\n"
    }
   }
  },
  {
   "cell_type": "markdown",
   "source": [
    "# ———————————————-\n",
    "# data merge"
   ],
   "metadata": {
    "collapsed": false,
    "pycharm": {
     "name": "#%% md\n"
    }
   }
  },
  {
   "cell_type": "code",
   "execution_count": 5,
   "outputs": [],
   "source": [
    "merged_data = data_df.merge(city_dict_df, on='id_city', how='left')"
   ],
   "metadata": {
    "collapsed": false,
    "pycharm": {
     "name": "#%%\n"
    }
   }
  },
  {
   "cell_type": "code",
   "execution_count": 6,
   "outputs": [
    {
     "data": {
      "text/plain": "       id_view               time_view  id_group  id_city  nflag_order  \\\n0  10457162393 2023-01-17 13:56:06.118         0        3            1   \n1  10457152884 2023-01-30 17:38:18.629         1        1            1   \n2  10457162947 2023-01-07 14:06:22.689         1        1            1   \n3  10457197478 2023-01-02 11:02:58.189         0        3            0   \n4  10457176480 2023-01-04 22:56:19.240         0        1            1   \n\n     name_city  \n0  Новосибирск  \n1       Москва  \n2       Москва  \n3  Новосибирск  \n4       Москва  ",
      "text/html": "<div>\n<style scoped>\n    .dataframe tbody tr th:only-of-type {\n        vertical-align: middle;\n    }\n\n    .dataframe tbody tr th {\n        vertical-align: top;\n    }\n\n    .dataframe thead th {\n        text-align: right;\n    }\n</style>\n<table border=\"1\" class=\"dataframe\">\n  <thead>\n    <tr style=\"text-align: right;\">\n      <th></th>\n      <th>id_view</th>\n      <th>time_view</th>\n      <th>id_group</th>\n      <th>id_city</th>\n      <th>nflag_order</th>\n      <th>name_city</th>\n    </tr>\n  </thead>\n  <tbody>\n    <tr>\n      <th>0</th>\n      <td>10457162393</td>\n      <td>2023-01-17 13:56:06.118</td>\n      <td>0</td>\n      <td>3</td>\n      <td>1</td>\n      <td>Новосибирск</td>\n    </tr>\n    <tr>\n      <th>1</th>\n      <td>10457152884</td>\n      <td>2023-01-30 17:38:18.629</td>\n      <td>1</td>\n      <td>1</td>\n      <td>1</td>\n      <td>Москва</td>\n    </tr>\n    <tr>\n      <th>2</th>\n      <td>10457162947</td>\n      <td>2023-01-07 14:06:22.689</td>\n      <td>1</td>\n      <td>1</td>\n      <td>1</td>\n      <td>Москва</td>\n    </tr>\n    <tr>\n      <th>3</th>\n      <td>10457197478</td>\n      <td>2023-01-02 11:02:58.189</td>\n      <td>0</td>\n      <td>3</td>\n      <td>0</td>\n      <td>Новосибирск</td>\n    </tr>\n    <tr>\n      <th>4</th>\n      <td>10457176480</td>\n      <td>2023-01-04 22:56:19.240</td>\n      <td>0</td>\n      <td>1</td>\n      <td>1</td>\n      <td>Москва</td>\n    </tr>\n  </tbody>\n</table>\n</div>"
     },
     "execution_count": 6,
     "metadata": {},
     "output_type": "execute_result"
    }
   ],
   "source": [
    "merged_data.head()"
   ],
   "metadata": {
    "collapsed": false,
    "pycharm": {
     "name": "#%%\n"
    }
   }
  },
  {
   "cell_type": "markdown",
   "source": [
    "# ——————L.3, T.2—————————"
   ],
   "metadata": {
    "collapsed": false,
    "pycharm": {
     "name": "#%% md\n"
    }
   }
  },
  {
   "cell_type": "markdown",
   "source": [
    "# ----------------------------------------------\n",
    "# functions for calculation"
   ],
   "metadata": {
    "collapsed": false,
    "pycharm": {
     "name": "#%% md\n"
    }
   }
  },
  {
   "cell_type": "code",
   "execution_count": 7,
   "outputs": [],
   "source": [
    "def test_calc(r1, r2, alpha = 0.05):\n",
    "    s, p = ttest_ind(r1, r2)\n",
    "\n",
    "    if p < alpha:\n",
    "        print(\"Гипотеза не подтверждается, средние не равны\")\n",
    "        print(\"Разница средних = \", r1.mean()-r2.mean())\n",
    "    else:\n",
    "        print(\"Гипотеза подтверждается, средние равны\")\n",
    "        print(\"Разница средних = 0\")\n",
    "\n",
    "    return s, p"
   ],
   "metadata": {
    "collapsed": false,
    "pycharm": {
     "name": "#%%\n"
    }
   }
  },
  {
   "cell_type": "markdown",
   "source": [
    "# ----------------------------------------------\n",
    "# calculating the overall result"
   ],
   "metadata": {
    "collapsed": false,
    "pycharm": {
     "name": "#%% md\n"
    }
   }
  },
  {
   "cell_type": "code",
   "execution_count": 8,
   "outputs": [
    {
     "name": "stdout",
     "output_type": "stream",
     "text": [
      "Конверсия группы A: 0.68\n",
      "\n",
      "Конверсия группы B: 0.62\n",
      "\n",
      "Гипотеза не подтверждается, средние не равны\n",
      "Разница средних =  0.060691822608150425\n",
      "(9.41595134321716, 5.1365957325220535e-21)\n"
     ]
    }
   ],
   "source": [
    "group_A = merged_data[merged_data['id_group'] == 1]\n",
    "group_B = merged_data[merged_data['id_group'] == 0]\n",
    "\n",
    "conversion_A = group_A['nflag_order'].mean()\n",
    "conversion_B = group_B['nflag_order'].mean()\n",
    "\n",
    "print(f\"Конверсия группы A: {conversion_A:.2f}\\n\")\n",
    "print(f\"Конверсия группы B: {conversion_B:.2f}\\n\")\n",
    "\n",
    "print(test_calc(merged_data[merged_data['id_group'] == 1]['nflag_order'], merged_data[merged_data['id_group'] == 0]['nflag_order']))\n"
   ],
   "metadata": {
    "collapsed": false,
    "pycharm": {
     "name": "#%%\n"
    }
   }
  },
  {
   "cell_type": "markdown",
   "source": [
    "# ——————L.3, T.3—————————"
   ],
   "metadata": {
    "collapsed": false,
    "pycharm": {
     "name": "#%% md\n"
    }
   }
  },
  {
   "cell_type": "markdown",
   "source": [
    "# ----------------------------------------------\n",
    "# significant cities"
   ],
   "metadata": {
    "collapsed": false,
    "pycharm": {
     "name": "#%% md\n"
    }
   }
  },
  {
   "cell_type": "code",
   "execution_count": 9,
   "outputs": [
    {
     "name": "stdout",
     "output_type": "stream",
     "text": [
      "Города со статистически значимыми различиями между группами A и B:\n",
      "\n",
      "ID города: 1, Название города: Москва\n",
      " p-value: 1.368947706664987e-13, s: 7.410981603370934\n",
      "\n",
      "ID города: 2, Название города: Санкт-Петербург\n",
      " p-value: 1.8595141124883944e-07, s: 5.220275988832596\n",
      "\n",
      "ID города: 4, Название города: Казань\n",
      " p-value: 0.0023855694044274188, s: 3.0436700754076127\n",
      "\n"
     ]
    }
   ],
   "source": [
    "significant_cities = [city_id for city_id in data_df['id_city'].unique()\n",
    "                      if len(data_df[(data_df['id_group'] == 0) & (data_df['id_city'] == city_id)]) > 0\n",
    "                      and len(data_df[(data_df['id_group'] == 1) & (data_df['id_city'] == city_id)]) > 0\n",
    "                      and ttest_ind(data_df[(data_df['id_group'] == 1) & (data_df['id_city'] == city_id)]['nflag_order'],\n",
    "                                    data_df[(data_df['id_group'] == 0) & (data_df['id_city'] == city_id)]['nflag_order'])[1] < 0.05]\n",
    "\n",
    "\n",
    "city_info = {}\n",
    "for city_id in significant_cities:\n",
    "    city_name = city_dict_df[city_dict_df['id_city'] == city_id]['name_city'].values[0]\n",
    "    group_A = data_df[(data_df['id_group'] == 1) & (data_df['id_city'] == city_id)]['nflag_order']\n",
    "    group_B = data_df[(data_df['id_group'] == 0) & (data_df['id_city'] == city_id)]['nflag_order']\n",
    "    stat, p_value = ttest_ind(group_A, group_B)\n",
    "    city_info[city_id] = {'city_name': city_name, 'p_value': p_value, 's': stat}\n",
    "\n",
    "print(\"Города со статистически значимыми различиями между группами A и B:\\n\")\n",
    "for city_id, info in city_info.items():\n",
    "    print(f\"ID города: {city_id}, Название города: {info['city_name']}\\n p-value: {info['p_value']}, s: {info['s']}\\n\")"
   ],
   "metadata": {
    "collapsed": false,
    "pycharm": {
     "name": "#%%\n"
    }
   }
  },
  {
   "cell_type": "markdown",
   "source": [
    "# ——————L.3, T.4—————————"
   ],
   "metadata": {
    "collapsed": false,
    "pycharm": {
     "name": "#%% md\n"
    }
   }
  },
  {
   "cell_type": "code",
   "execution_count": 10,
   "outputs": [],
   "source": [
    "peak_hours = [7, 8, 9, 10, 17, 18, 19, 20]\n",
    "merged_data['peak_hour'] = merged_data['time_view'].apply(lambda x: 1 if x.hour in peak_hours else 0)\n",
    "\n",
    "\n",
    "peak_group = merged_data[merged_data['peak_hour'] == 1]\n",
    "non_peak_group = merged_data[merged_data['peak_hour'] == 0]"
   ],
   "metadata": {
    "collapsed": false,
    "pycharm": {
     "name": "#%%\n"
    }
   }
  },
  {
   "cell_type": "markdown",
   "source": [
    "# ----------------------------------------------\n",
    "# peak group"
   ],
   "metadata": {
    "collapsed": false,
    "pycharm": {
     "name": "#%% md\n"
    }
   }
  },
  {
   "cell_type": "code",
   "execution_count": 11,
   "outputs": [
    {
     "name": "stdout",
     "output_type": "stream",
     "text": [
      "Результаты АВ-теста для пиковых заказов:\n",
      "\n",
      "Гипотеза не подтверждается, средние не равны\n",
      "Разница средних =  0.07196282994729519\n",
      "(6.422002058720224, 1.429452278435098e-10)\n"
     ]
    }
   ],
   "source": [
    "print(\"Результаты АВ-теста для пиковых заказов:\\n\")\n",
    "print(test_calc(peak_group[peak_group['id_group'] == 1]['nflag_order'], peak_group[peak_group['id_group'] == 0]['nflag_order']))"
   ],
   "metadata": {
    "collapsed": false,
    "pycharm": {
     "name": "#%%\n"
    }
   }
  },
  {
   "cell_type": "markdown",
   "source": [
    "# ----------------------------------------------\n",
    "# non peak group"
   ],
   "metadata": {
    "collapsed": false,
    "pycharm": {
     "name": "#%% md\n"
    }
   }
  },
  {
   "cell_type": "code",
   "execution_count": 12,
   "outputs": [
    {
     "name": "stdout",
     "output_type": "stream",
     "text": [
      "Результаты АВ-теста для не-пиковых заказов:\n",
      "\n",
      "Гипотеза не подтверждается, средние не равны\n",
      "Разница средних =  0.05513649587263003\n",
      "(6.997243317124079, 2.7237344158581742e-12)\n"
     ]
    }
   ],
   "source": [
    "print(\"Результаты АВ-теста для не-пиковых заказов:\\n\")\n",
    "print(test_calc(non_peak_group[non_peak_group['id_group'] == 1]['nflag_order'], non_peak_group[non_peak_group['id_group'] == 0]['nflag_order']))"
   ],
   "metadata": {
    "collapsed": false,
    "pycharm": {
     "name": "#%%\n"
    }
   }
  },
  {
   "cell_type": "markdown",
   "source": [
    "# ——————L.3, T.5—————————"
   ],
   "metadata": {
    "collapsed": false,
    "pycharm": {
     "name": "#%% md\n"
    }
   }
  },
  {
   "cell_type": "markdown",
   "source": [
    "###  По результатам, полученным в задании 3.2, гипотеза о равенстве средних не подтверждается. Это означает, что средние значения между группами A и B не равны, и есть статистически значимые различия в конверсии из просмотра в создание заказа. Это может указывать на то, что понижение цены на услугу за счёт новой платёжной механики вероятно оказывает влияние на поведение пользователей и их склонность создавать заказы после просмотра."
   ],
   "metadata": {
    "collapsed": false,
    "pycharm": {
     "name": "#%% md\n"
    }
   }
  },
  {
   "cell_type": "markdown",
   "source": [
    "###  По результатам, полученным в задании 3.3, были отобраны три города, в которых гипотеза о равенстве средних не подтвердилась. Это означает, что новая платежная механика, вероятно, влияет на поведение пользователей в данных городах, и это изменение конверсии неслучайно."
   ],
   "metadata": {
    "collapsed": false,
    "pycharm": {
     "name": "#%% md\n"
    }
   }
  },
  {
   "cell_type": "markdown",
   "source": [
    "### По результатам, полученным в задании 3.4, гипотеза о равенстве средних не подтверждается. Однако нельзя точно утверждать есть ли существенные отличия между пиковыми и не пиковыми часами."
   ],
   "metadata": {
    "collapsed": false,
    "pycharm": {
     "name": "#%% md\n"
    }
   }
  },
  {
   "cell_type": "markdown",
   "source": [
    "### Таким образом, общий анализ АВ-теста показывает, что понижение цены на услугу оказывает существенное и статистическое влияние в создание заказа. Однако, решение о внедрении новой платежной механики следует принимать, учитывая и прочие факторы: экономическая целесообразность, потенциальные затраты на реализацию и внедрение новой механики, а также возможные риски и последствия."
   ],
   "metadata": {
    "collapsed": false,
    "pycharm": {
     "name": "#%% md\n"
    }
   }
  }
 ],
 "metadata": {
  "kernelspec": {
   "display_name": "Python 3",
   "language": "python",
   "name": "python3"
  },
  "language_info": {
   "codemirror_mode": {
    "name": "ipython",
    "version": 3
   },
   "file_extension": ".py",
   "mimetype": "text/x-python",
   "name": "python",
   "nbconvert_exporter": "python",
   "pygments_lexer": "ipython3",
   "version": "3.8.8"
  }
 },
 "nbformat": 4,
 "nbformat_minor": 5
}